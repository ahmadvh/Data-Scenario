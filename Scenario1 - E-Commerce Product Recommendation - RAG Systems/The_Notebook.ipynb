{
  "cells": [
    {
      "cell_type": "markdown",
      "metadata": {
        "id": "qBZ8SfttFrhN"
      },
      "source": [
        "# **Welcome to the notebook**"
      ]
    },
    {
      "cell_type": "markdown",
      "metadata": {
        "id": "Nipbl0JKx_kD"
      },
      "source": [
        "### Task 1 - Set up project environment"
      ]
    },
    {
      "cell_type": "markdown",
      "metadata": {
        "id": "G3vynbDOu1F6"
      },
      "source": [
        "Installing the needed modules"
      ]
    },
    {
      "cell_type": "code",
      "execution_count": null,
      "metadata": {
        "colab": {
          "base_uri": "https://localhost:8080/"
        },
        "id": "scn7mBZ6J_xW",
        "outputId": "973b1a94-a4be-4da7-ab44-366c034371ca"
      },
      "outputs": [],
      "source": [
        "!pip install openai==1.16.2 python-dotenv"
      ]
    },
    {
      "cell_type": "markdown",
      "metadata": {
        "id": "gnKLxjGIyL55"
      },
      "source": [
        "Importing the needed modules and setup the OpenAI API"
      ]
    },
    {
      "cell_type": "code",
      "execution_count": null,
      "metadata": {
        "colab": {
          "base_uri": "https://localhost:8080/"
        },
        "id": "HBaE-1PXxoGg",
        "outputId": "4569ce59-12e1-4bbf-c11f-698818c31ff2"
      },
      "outputs": [],
      "source": [
        "import pandas as pd\n",
        "import numpy as np\n",
        "import os\n",
        "from openai import OpenAI\n",
        "from dotenv import load_dotenv\n",
        "\n",
        "from sklearn.metrics.pairwise import cosine_similarity\n",
        "\n",
        "# Loading API key and organization ID from a dotenv file\n",
        "load_dotenv(dotenv_path='/content/apikey.env.txt')\n",
        "\n",
        "# Retrieving API key and organization ID from environment variables\n",
        "APIKEY = os.getenv(\"APIKEY\")\n",
        "ORGID = os.getenv(\"ORGID\")\n",
        "\n",
        "# Creating an instance of the OpenAI client with the provided API key and organization ID\n",
        "client = OpenAI(\n",
        "  organization= ORGID,\n",
        "  api_key=APIKEY\n",
        ")\n",
        "\n",
        "client"
      ]
    },
    {
      "cell_type": "markdown",
      "metadata": {
        "id": "TJQuoeYV5AIh"
      },
      "source": [
        "### Task 2 - Prepare the Kowledge Base"
      ]
    },
    {
      "cell_type": "markdown",
      "metadata": {
        "id": "L1AUal0zpkld"
      },
      "source": [
        "Loading the products dataset"
      ]
    },
    {
      "cell_type": "code",
      "execution_count": null,
      "metadata": {
        "colab": {
          "base_uri": "https://localhost:8080/",
          "height": 423
        },
        "id": "tfHs-_sB5O_Y",
        "outputId": "cfbbb548-4d10-4801-a250-8091311349a0"
      },
      "outputs": [],
      "source": []
    },
    {
      "cell_type": "markdown",
      "metadata": {
        "id": "Nyb3ZCYcpuNV"
      },
      "source": [
        "Combining product `title` and `description`"
      ]
    },
    {
      "cell_type": "code",
      "execution_count": null,
      "metadata": {
        "colab": {
          "base_uri": "https://localhost:8080/",
          "height": 527
        },
        "id": "cOENLv1zm3Ot",
        "outputId": "aec888bc-bc37-4d4b-a3ff-1d89357979c6"
      },
      "outputs": [],
      "source": []
    },
    {
      "cell_type": "markdown",
      "metadata": {
        "id": "RO5b1ll-p7aN"
      },
      "source": [
        "Creating the text embedding vectors"
      ]
    },
    {
      "cell_type": "code",
      "execution_count": null,
      "metadata": {
        "colab": {
          "base_uri": "https://localhost:8080/",
          "height": 597
        },
        "id": "XMRezQ26pjzK",
        "outputId": "2e0ecfdf-8413-43a6-e831-3606cf11fcda"
      },
      "outputs": [],
      "source": []
    },
    {
      "cell_type": "markdown",
      "metadata": {
        "id": "M-HU2ND8qpyO"
      },
      "source": [
        "### Task 3 - Retrieve relevant items based on user prompts"
      ]
    },
    {
      "cell_type": "code",
      "execution_count": 23,
      "metadata": {
        "id": "gwo2_NDXqdom"
      },
      "outputs": [],
      "source": [
        "user_prompt = \"I'm remodeling my bathroom and need a stylish white sink with a faucet included.\""
      ]
    },
    {
      "cell_type": "markdown",
      "metadata": {
        "id": "nwfZicP2sVTG"
      },
      "source": [
        "Let's find the embedding vector of the user prompt."
      ]
    },
    {
      "cell_type": "code",
      "execution_count": 24,
      "metadata": {
        "id": "1jk2zQXIsUdc"
      },
      "outputs": [],
      "source": []
    },
    {
      "cell_type": "markdown",
      "metadata": {
        "id": "pUdmojwZsppn"
      },
      "source": [
        "Find similar products to the user prompt"
      ]
    },
    {
      "cell_type": "code",
      "execution_count": null,
      "metadata": {
        "colab": {
          "base_uri": "https://localhost:8080/",
          "height": 597
        },
        "id": "giTPfMCns8Sm",
        "outputId": "dad4c11a-e1d2-4037-9f05-10af6a638f94"
      },
      "outputs": [],
      "source": []
    },
    {
      "cell_type": "markdown",
      "metadata": {
        "id": "a-aU5vEOFCCu"
      },
      "source": [
        "### Task 4 - Craft the context-rich prompt"
      ]
    },
    {
      "cell_type": "markdown",
      "metadata": {
        "id": "615Ut-vGE4dt"
      },
      "source": [
        "Getting the top-10 similiar items"
      ]
    },
    {
      "cell_type": "code",
      "execution_count": null,
      "metadata": {
        "colab": {
          "base_uri": "https://localhost:8080/",
          "height": 536
        },
        "id": "Ie4BENBqE4Gj",
        "outputId": "ac195a4f-3122-4680-f9fe-7a384e9d4209"
      },
      "outputs": [],
      "source": []
    },
    {
      "cell_type": "markdown",
      "metadata": {
        "id": "GhDp077AV6sQ"
      },
      "source": [
        "Let's combine the information about all the related products."
      ]
    },
    {
      "cell_type": "code",
      "execution_count": null,
      "metadata": {
        "colab": {
          "base_uri": "https://localhost:8080/"
        },
        "id": "_nCLtzIcV6OF",
        "outputId": "746d687e-f9bf-4916-c543-a603329dfac9"
      },
      "outputs": [],
      "source": []
    },
    {
      "cell_type": "markdown",
      "metadata": {
        "id": "tMKVsH2cXgsJ"
      },
      "source": [
        "Now let's craft our prompt"
      ]
    },
    {
      "cell_type": "code",
      "execution_count": null,
      "metadata": {
        "colab": {
          "base_uri": "https://localhost:8080/"
        },
        "id": "siCmsXAOXfTQ",
        "outputId": "977056ee-9c16-432c-e5a2-d6ed5f8ae757"
      },
      "outputs": [],
      "source": []
    },
    {
      "cell_type": "markdown",
      "metadata": {
        "id": "6boXg8ibYBGA"
      },
      "source": [
        "### Task 5 - Prompt the LLM to generate product recommendation"
      ]
    },
    {
      "cell_type": "code",
      "execution_count": null,
      "metadata": {
        "colab": {
          "base_uri": "https://localhost:8080/"
        },
        "id": "bbzr2s8oYAm6",
        "outputId": "fd03f56b-ef71-4801-c240-9f78b2fa6f00"
      },
      "outputs": [],
      "source": []
    }
  ],
  "metadata": {
    "colab": {
      "collapsed_sections": [
        "_vm5Vfs9FqHa",
        "xKAVjZ3oyD78"
      ],
      "provenance": []
    },
    "kernelspec": {
      "display_name": "Python 3",
      "name": "python3"
    },
    "language_info": {
      "codemirror_mode": {
        "name": "ipython",
        "version": 3
      },
      "file_extension": ".py",
      "mimetype": "text/x-python",
      "name": "python",
      "nbconvert_exporter": "python",
      "pygments_lexer": "ipython3",
      "version": "3.12.0"
    }
  },
  "nbformat": 4,
  "nbformat_minor": 0
}
