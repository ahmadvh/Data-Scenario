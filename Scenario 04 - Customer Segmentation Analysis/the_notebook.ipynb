{
 "cells": [
  {
   "cell_type": "markdown",
   "id": "8d184e89",
   "metadata": {},
   "source": [
    "# Customer Segmentation Analysis with Pandas\n",
    "\n",
    "Your marketing team has tasked you with understanding customer behaviors based on their purchasing patterns over time. The goal is to segment customers into distinct groups to personalize marketing efforts effectively."
   ]
  },
  {
   "cell_type": "markdown",
   "id": "dca15731",
   "metadata": {},
   "source": [
    "## Scenario\n",
    "\n",
    "Your boss has noticed that the company's marketing campaigns are not as effective as they could be. To address this, the marketing team wants to understand different customer behaviors and segment them into groups such as loyal customers, one-time buyers, and seasonal shoppers. This will help in tailoring marketing strategies to each group.\n",
    "\n",
    "You have been provided with a dataset containing purchase history of 5 customers over a period of time. Your task is to perform customer segmentation using K-Means Clustering."
   ]
  },
  {
   "cell_type": "markdown",
   "id": "baf03bca",
   "metadata": {},
   "source": [
    "## Step 1: Load the Dataset\n",
    "\n",
    "Let's start by loading the dataset and taking a quick look at the first few rows to understand its structure."
   ]
  },
  {
   "cell_type": "code",
   "execution_count": null,
   "id": "a1707eee",
   "metadata": {},
   "outputs": [],
   "source": []
  },
  {
   "cell_type": "markdown",
   "id": "eae4ccd9-f955-4f48-8000-39d13d1f7560",
   "metadata": {},
   "source": [
    "So in our dataset we have the following columns:\n",
    "\n",
    "- **Customer ID**: Unique identifier for each customer.  \n",
    "- **Purchase Frequency**: Number of times the customer has made a purchase.  \n",
    "- **Total Amount Spent**: Total monetary value spent by the customer.  \n",
    "- **Last Purchase Date**: The most recent date the customer made a purchase. "
   ]
  },
  {
   "cell_type": "markdown",
   "id": "7831cccb",
   "metadata": {},
   "source": [
    "## Step 2: Data Exploration\n",
    "\n",
    "Before diving into clustering, it's important to explore the dataset to understand the distribution of data. Let's check for any missing values and get a summary of the dataset."
   ]
  },
  {
   "cell_type": "code",
   "execution_count": null,
   "id": "4c57dd45",
   "metadata": {},
   "outputs": [],
   "source": []
  },
  {
   "cell_type": "code",
   "execution_count": null,
   "id": "ea8d3f9b",
   "metadata": {},
   "outputs": [],
   "source": []
  },
  {
   "cell_type": "markdown",
   "id": "c736e495",
   "metadata": {},
   "source": [
    "## Step 3: Data Preprocessing\n",
    "\n",
    "For clustering, we need to preprocess the data. This includes handling missing values, normalizing the data, and converting date information into a numerical format that can be used in clustering."
   ]
  },
  {
   "cell_type": "code",
   "execution_count": null,
   "id": "84eb634c",
   "metadata": {},
   "outputs": [],
   "source": []
  },
  {
   "cell_type": "markdown",
   "id": "b33ae23a",
   "metadata": {},
   "source": [
    "## Step 4: Data Normalization\n",
    "\n",
    "To ensure that each feature contributes equally to the distance calculations in K-Means, we need to normalize the data."
   ]
  },
  {
   "cell_type": "code",
   "execution_count": null,
   "id": "14357566",
   "metadata": {},
   "outputs": [],
   "source": []
  },
  {
   "cell_type": "markdown",
   "id": "77d50f85",
   "metadata": {},
   "source": [
    "## Step 5: K-Means Clustering\n",
    "\n",
    "Now that our data is preprocessed and normalized, we can apply K-Means Clustering to segment the customers. We'll start by determining the optimal number of clusters using the Elbow Method."
   ]
  },
  {
   "cell_type": "code",
   "execution_count": null,
   "id": "b3588aa7",
   "metadata": {},
   "outputs": [],
   "source": []
  },
  {
   "cell_type": "markdown",
   "id": "53166a83-f368-4053-8d57-79f74018eb04",
   "metadata": {},
   "source": [
    "#### **Finding the \"Elbow\" Point**\n",
    "- Inertia decreases sharply as clusters increase.  \n",
    "- The **elbow** is where the decrease slows down, forming a bend.  \n",
    "\n",
    "#### **Optimal Number of Clusters**\n",
    "- The best choice is at the **elbow**, where adding more clusters **barely reduces inertia**.  \n",
    "- In this plot, **K = 3 or 4** seems optimal.  \n",
    "\n",
    "#### **Why Stop at the Elbow?**\n",
    "- Before the elbow: More clusters **significantly** reduce inertia.  \n",
    "- After the elbow: Diminishing returns, risk of **overfitting**.  \n",
    "\n",
    "Thus, **3 or 4 clusters** are the best choice for segmentation.  "
   ]
  },
  {
   "cell_type": "markdown",
   "id": "0da3c266",
   "metadata": {},
   "source": [
    "## Step 6: Apply K-Means\n",
    "\n",
    "Based on the Elbow Method, we should choose `4` as the number of clusters and apply K-Means to segment the customers."
   ]
  },
  {
   "cell_type": "code",
   "execution_count": null,
   "id": "29ee8e2d",
   "metadata": {},
   "outputs": [],
   "source": []
  },
  {
   "cell_type": "markdown",
   "id": "56706b29",
   "metadata": {},
   "source": [
    "## Step 7: Visualize the Clusters\n",
    "\n",
    "To better understand the customer segments, let's visualize the clusters using a scatter plot."
   ]
  },
  {
   "cell_type": "markdown",
   "id": "1cd18e80-ecba-4ddf-9009-6eb466fd942c",
   "metadata": {},
   "source": [
    "first let's convert the `cluster` column to `str`"
   ]
  },
  {
   "cell_type": "code",
   "execution_count": null,
   "id": "b645f3f8-9d48-479b-bbf7-ab33aa01c8d0",
   "metadata": {},
   "outputs": [],
   "source": []
  },
  {
   "cell_type": "markdown",
   "id": "a46139a7-d901-4964-bb1e-60cc949f4149",
   "metadata": {},
   "source": [
    "Let's use `plotly` to visualize our customer segments"
   ]
  },
  {
   "cell_type": "code",
   "execution_count": null,
   "id": "70407078-b3cd-4138-a2a7-4a0cd0e14ea1",
   "metadata": {},
   "outputs": [],
   "source": []
  },
  {
   "cell_type": "markdown",
   "id": "198b576c",
   "metadata": {},
   "source": [
    "### **Interpreting Customer Segments**  \n",
    "\n",
    "1. **Cluster 0 (Green) - One-Time Buyers**  \n",
    "   - Low purchase frequency, low spending.  \n",
    "   - **Strategy:** Re-engagement campaigns, discount offers.  \n",
    "\n",
    "2. **Cluster 1 (Blue) - Loyal Customers**  \n",
    "   - High purchase frequency, high spending.  \n",
    "   - **Strategy:** Loyalty programs, exclusive discounts.  \n",
    "\n",
    "3. **Cluster 2 (Red) - Moderate Buyers**  \n",
    "   - Medium frequency, moderate spending.  \n",
    "   - **Strategy:** Personalized recommendations, limited-time offers.  \n",
    "\n",
    "4. **Cluster 3 (Purple) - Seasonal Shoppers**  \n",
    "   - Infrequent purchases, high spending.  \n",
    "   - **Strategy:** Seasonal promotions, event-based campaigns.  \n",
    "\n",
    "### **Business Insights**  \n",
    "- **Nurture loyal customers** with rewards.  \n",
    "- **Convert one-time buyers** into repeat customers.  \n",
    "- **Target seasonal shoppers** before peak sales.  \n",
    "- **Encourage moderate buyers** with incentives.  \n"
   ]
  }
 ],
 "metadata": {
  "kernelspec": {
   "display_name": "Python 3",
   "language": "python",
   "name": "python3"
  },
  "language_info": {
   "codemirror_mode": {
    "name": "ipython",
    "version": 3
   },
   "file_extension": ".py",
   "mimetype": "text/x-python",
   "name": "python",
   "nbconvert_exporter": "python",
   "pygments_lexer": "ipython3",
   "version": "3.13.1"
  }
 },
 "nbformat": 4,
 "nbformat_minor": 5
}
