{
 "cells": [
  {
   "cell_type": "markdown",
   "id": "2463fa2d",
   "metadata": {},
   "source": [
    "# Welcome to the Notebook\n",
    "---\n",
    "In this notebook, we will explore high-dimensional data analysis. Our agenda includes:\n",
    "- Importing the Dataset\n",
    "- Normalization\n",
    "- K-means Clustering\n",
    "- Scatterplot Matrix\n",
    "- Parallel Coordinate Plot (PCP)\n",
    "- Data Reduction\n",
    "\n",
    "### Tasks:\n",
    "- Correlation Analysis\n",
    "- Outlier Detection\n",
    "- Cluster Analysis"
   ]
  },
  {
   "cell_type": "markdown",
   "id": "b0315af2",
   "metadata": {},
   "source": [
    "## Importing Modules\n",
    "Let's start by importing the necessary libraries for data manipulation, clustering, preprocessing, and visualization. 📚"
   ]
  },
  {
   "cell_type": "code",
   "execution_count": 1,
   "id": "eff010ac",
   "metadata": {},
   "outputs": [],
   "source": []
  },
  {
   "cell_type": "markdown",
   "id": "bd5d07c1",
   "metadata": {},
   "source": [
    "## Loading the Dataset\n",
    "Let's load our dataset and take a look at its structure. 🗂️"
   ]
  },
  {
   "cell_type": "code",
   "execution_count": 2,
   "id": "c7f60aa9",
   "metadata": {},
   "outputs": [],
   "source": []
  },
  {
   "cell_type": "markdown",
   "id": "df51464a",
   "metadata": {},
   "source": [
    "The dataset contains various metrics for different countries or regions, including GDP per capita, social support, healthy life expectancy, freedom to make life choices, generosity, and perceptions of corruption. Nordic countries like Finland, Denmark, Norway, and Iceland rank high in these metrics, indicating strong social support systems and high levels of life satisfaction. 🌍"
   ]
  },
  {
   "cell_type": "markdown",
   "id": "4e35718a",
   "metadata": {},
   "source": [
    "### Data Overview\n",
    "We'll check the data types and get a summary of our data to understand its distribution and characteristics. 📊"
   ]
  },
  {
   "cell_type": "code",
   "execution_count": 3,
   "id": "5c4e6ff6",
   "metadata": {},
   "outputs": [],
   "source": []
  },
  {
   "cell_type": "markdown",
   "id": "ec4900e2",
   "metadata": {},
   "source": [
    "The dataset consists of seven columns, with 'Country or region' being categorical, while the remaining columns are continuous numerical data. This structure suggests the dataset is used for analyzing socio-economic and well-being indicators across different countries or regions."
   ]
  },
  {
   "cell_type": "code",
   "execution_count": 4,
   "id": "036c0163",
   "metadata": {},
   "outputs": [],
   "source": []
  },
  {
   "cell_type": "markdown",
   "id": "28767427",
   "metadata": {},
   "source": [
    "The dataset contains 156 entries for each of the six variables. Key statistics include the mean values, with GDP per capita averaging 0.905, Social support at 1.209, and Healthy life expectancy at 0.725. The wide range of data across these variables is evident, such as GDP per capita ranging from 0.000 to 1.684."
   ]
  },
  {
   "cell_type": "markdown",
   "id": "11100708",
   "metadata": {},
   "source": [
    "## Data Normalization\n",
    "To ensure all features contribute equally to the analysis, we'll normalize the data to a range between 0 and 1. 🔄"
   ]
  },
  {
   "cell_type": "code",
   "execution_count": 5,
   "id": "f82d1e3d",
   "metadata": {},
   "outputs": [],
   "source": []
  },
  {
   "cell_type": "markdown",
   "id": "b868b76f",
   "metadata": {},
   "source": [
    "The dataset has been normalized using Min-Max scaling, transforming the features to a range between 0 and 1, while retaining the 'Country or region' column as a categorical identifier. This scaling allows for a direct comparison of these features across different countries."
   ]
  },
  {
   "cell_type": "code",
   "execution_count": 6,
   "id": "ec0adad3",
   "metadata": {},
   "outputs": [],
   "source": []
  },
  {
   "cell_type": "markdown",
   "id": "87da1064",
   "metadata": {},
   "source": [
    "The dataset contains 156 entries for each of the six variables, with all variables normalized between 0 and 1. Key observations include the highest mean value for Social support (0.744) and the lowest for Perceptions of corruption (0.244)."
   ]
  },
  {
   "cell_type": "markdown",
   "id": "b4aebdc7",
   "metadata": {},
   "source": [
    "## K-means Clustering\n",
    "Let's apply K-means clustering to group the data into clusters. 🎯"
   ]
  },
  {
   "cell_type": "code",
   "execution_count": 7,
   "id": "5b0e54ed",
   "metadata": {},
   "outputs": [],
   "source": []
  },
  {
   "cell_type": "markdown",
   "id": "d24beb4f",
   "metadata": {},
   "source": [
    "The KMeans algorithm has clustered the dataset into three groups. The first five countries are assigned to cluster '0', suggesting they share similar characteristics across the metrics."
   ]
  },
  {
   "cell_type": "markdown",
   "id": "e30558ad",
   "metadata": {},
   "source": [
    "## Scatter Plot Matrix\n",
    "A scatter plot matrix helps visualize the relationships between variables and identify patterns or outliers. 📈"
   ]
  },
  {
   "cell_type": "code",
   "execution_count": 8,
   "id": "4fe0c6f0",
   "metadata": {},
   "outputs": [],
   "source": []
  },
  {
   "cell_type": "code",
   "execution_count": 9,
   "id": "f5f166d2",
   "metadata": {},
   "outputs": [],
   "source": []
  },
  {
   "cell_type": "markdown",
   "id": "ac4e9bee",
   "metadata": {},
   "source": [
    "### Scatterplot Matrix Explanation\n",
    "\n",
    "The scatterplot matrix displays pairwise relationships between various factors contributing to the Happiness Index, categorized by class. Notable positive correlations exist between factors like \"Social support\" and \"Healthy life expectancy.\" The class distributions indicate distinct clustering patterns, especially in parameters like \"Social support\" and \"Healthy life expectancy,\" suggesting their influence on happiness levels. Class 0 tends to show higher values across most indicators."
   ]
  },
  {
   "cell_type": "markdown",
   "id": "1aa896ac",
   "metadata": {},
   "source": [
    "## Parallel Coordinate Plot\n",
    "This plot allows us to visualize multi-dimensional data and observe the clustering results. 📊"
   ]
  },
  {
   "cell_type": "code",
   "execution_count": 10,
   "id": "ec17a6a9",
   "metadata": {},
   "outputs": [],
   "source": []
  },
  {
   "cell_type": "code",
   "execution_count": 11,
   "id": "fd528f6a",
   "metadata": {},
   "outputs": [],
   "source": []
  },
  {
   "cell_type": "markdown",
   "id": "bd6cc0a5",
   "metadata": {},
   "source": [
    "The parallel coordinates plot displays the relationships among several features, categorized by three clusters. Each line represents a data point, and the clusters exhibit distinct patterns, with cluster 0 generally showing higher values across most features."
   ]
  },
  {
   "cell_type": "markdown",
   "id": "fa472a7e",
   "metadata": {},
   "source": [
    "## Data Reduction\n",
    "To handle large datasets, we can reduce the data size through sampling and reduce dimensions using techniques like UMAP. 🔍"
   ]
  },
  {
   "cell_type": "code",
   "execution_count": 12,
   "id": "279329fc",
   "metadata": {},
   "outputs": [],
   "source": []
  },
  {
   "cell_type": "markdown",
   "id": "a3da1890",
   "metadata": {},
   "source": [
    "### Scatter Plot Matrix of Sampled Data\n",
    "Let's visualize the sampled data to see if the patterns hold. 📉"
   ]
  },
  {
   "cell_type": "code",
   "execution_count": 13,
   "id": "8077342b",
   "metadata": {},
   "outputs": [],
   "source": []
  },
  {
   "cell_type": "markdown",
   "id": "cec8221b",
   "metadata": {},
   "source": [
    "The scatterplot matrix visualizes relationships between variables of the Happiness Index across three classes. Key patterns show a strong correlation between \"GDP per capita\" and \"Healthy life expectancy,\" especially for class 2."
   ]
  },
  {
   "cell_type": "markdown",
   "id": "fa77f1fd",
   "metadata": {},
   "source": [
    "## PCA Projection\n",
    "We'll apply PCA projection to visualize the data in a reduced dimensional space. 🌐"
   ]
  },
  {
   "cell_type": "code",
   "execution_count": null,
   "id": "00eceac7",
   "metadata": {},
   "outputs": [],
   "source": []
  },
  {
   "cell_type": "markdown",
   "id": "dc9fedd3",
   "metadata": {},
   "source": [
    "The first five rows of the dataset have been transformed into a two-dimensional space using PCA, capturing the most significant variance in the data."
   ]
  },
  {
   "cell_type": "markdown",
   "id": "efb175a4",
   "metadata": {},
   "source": [
    "Let's visualize the projected data"
   ]
  },
  {
   "cell_type": "code",
   "execution_count": null,
   "id": "0edbf525",
   "metadata": {},
   "outputs": [],
   "source": []
  },
  {
   "cell_type": "markdown",
   "id": "bbfa43a7",
   "metadata": {},
   "source": [
    "The scatter plot depicts a projection of the Happiness Index with data points grouped into three distinct classes—0, 1, and 2—distinguished by color. Class 2 clusters around the origin, Class 1 is primarily on the left side, while Class 0 is more dispersed across the right, suggesting variation in the projected dimensions."
   ]
  }
 ],
 "metadata": {
  "kernelspec": {
   "display_name": "Python 3 (ipykernel)",
   "language": "python",
   "name": "python3"
  },
  "language_info": {
   "codemirror_mode": {
    "name": "ipython",
    "version": 3
   },
   "file_extension": ".py",
   "mimetype": "text/x-python",
   "name": "python",
   "nbconvert_exporter": "python",
   "pygments_lexer": "ipython3",
   "version": "3.11.9"
  }
 },
 "nbformat": 4,
 "nbformat_minor": 5
}
