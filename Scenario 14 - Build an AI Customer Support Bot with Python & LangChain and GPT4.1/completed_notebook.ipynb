{
 "cells": [
  {
   "cell_type": "markdown",
   "id": "b53b8fba",
   "metadata": {},
   "source": [
    "## 🤖 Data Scenario: Build an AI Customer Support Bot for Order Issues\n",
    "\n",
    "The support team at **ShopSphere** is overwhelmed with customer emails.\n",
    "\n",
    "📩 Late deliveries, wrong products, refund requests — hundreds daily!\n",
    "\n",
    "You are tasked to create an AI assistant that **reads emails**, **summarizes the main issue**, **determines urgency**, and **suggests an action**."
   ]
  },
  {
   "cell_type": "code",
   "execution_count": null,
   "id": "efc209aa",
   "metadata": {},
   "outputs": [],
   "source": [
    "import pandas as pd\n",
    "from langchain_openai import ChatOpenAI\n",
    "from langchain.prompts import PromptTemplate\n",
    "emails = pd.read_csv('support_emails.csv')\n",
    "emails.head()"
   ]
  },
  {
   "cell_type": "markdown",
   "id": "b72107bd",
   "metadata": {},
   "source": [
    "The dataset contains customer email information, including the subject and message body of each email."
   ]
  },
  {
   "cell_type": "markdown",
   "id": "b5ce3754",
   "metadata": {},
   "source": [
    "⚙️ Set up LangChain QA pipeline to process incoming messages."
   ]
  },
  {
   "cell_type": "code",
   "execution_count": null,
   "id": "739e1d4e",
   "metadata": {},
   "outputs": [],
   "source": [
    "llm = ChatOpenAI(temperature=0.4, model_name='gpt-4.1-mini')\n",
    "prompt_template = \"\"\"\n",
    "\tRead the following customer support email.\n",
    "\tSummarize the issue, assign urgency level (low, medium, high), and suggest next action.\n",
    "\tEmail: {email_text}\n",
    "\"\"\"\n",
    "prompt = PromptTemplate(input_variables=['email_text'], template= prompt_template)\n",
    "chain = prompt | llm"
   ]
  },
  {
   "cell_type": "markdown",
   "id": "c7859b26",
   "metadata": {},
   "source": [
    "🛠️ Generate structured summaries for each support email."
   ]
  },
  {
   "cell_type": "code",
   "execution_count": null,
   "id": "e46da174",
   "metadata": {},
   "outputs": [],
   "source": [
    "def process_email(row):\n",
    "\treturn chain.invoke({'email_text': row['message_body']}).content\n",
    "emails['issue_summary'] = emails.apply(process_email, axis=1)\n",
    "emails[['customer_email', 'issue_summary']].head()"
   ]
  },
  {
   "cell_type": "markdown",
   "id": "55273e52",
   "metadata": {},
   "source": [
    "Let's review the structured summaries generated for customer support emails."
   ]
  },
  {
   "cell_type": "code",
   "execution_count": null,
   "id": "9a54c72b",
   "metadata": {},
   "outputs": [],
   "source": [
    "for index, row in emails[:2].iterrows():\n",
    "\tprint(f\"Customer Email: {row['customer_email']}\")\n",
    "\tprint(f\"Issue Summary: {row['issue_summary']}\")\n",
    "\tprint(\"-\" * 50)"
   ]
  },
  {
   "cell_type": "markdown",
   "id": "02ce4884",
   "metadata": {},
   "source": [
    "💾 Export the processed emails for support team prioritization."
   ]
  },
  {
   "cell_type": "code",
   "execution_count": null,
   "id": "694b2a5d",
   "metadata": {},
   "outputs": [],
   "source": [
    "emails.to_csv('processed_support_emails.csv', index=False)"
   ]
  },
  {
   "cell_type": "markdown",
   "id": "c87d5d5c",
   "metadata": {},
   "source": [
    "## 🎉 Wrapping Up\n",
    "\n",
    "Thanks for following this automation build! 📬\n",
    "\n",
    "👉 How else would you automate customer support tasks?\n",
    "👉 What kind of priority handling rules would you design?\n",
    "\n",
    "💬 Drop your creative ideas in the comments below!"
   ]
  }
 ],
 "metadata": {},
 "nbformat": 4,
 "nbformat_minor": 5
}
