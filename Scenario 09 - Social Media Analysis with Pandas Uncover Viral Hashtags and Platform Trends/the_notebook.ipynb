{
 "cells": [
  {
   "cell_type": "markdown",
   "id": "0e4f67bf",
   "metadata": {},
   "source": [
    "## Data Scenario: Social Media Strategy for a Marketing Campaign 📊\n",
    "\n",
    "You’ve just joined BuzzLab as a Data Scientist. Your boss needs fast, actionable insights for an upcoming product launch campaign. The goal? Make it go viral — no guesswork, just data.\n",
    "\n",
    "You’re given a dataset of 5,000 viral social media posts across TikTok, Instagram, Twitter, and YouTube. Your job is to uncover what drives engagement so the creative team knows exactly where to focus.\n",
    "\n",
    "Your boss asked you to:\n",
    "\n",
    "- Identify the best-performing platforms 📱\n",
    "- Spot high-impact hashtags (#challenge, #dance…) 🔥\n",
    "- Compare content types (video, reel, tweet…) 🎥\n",
    "- Analyze how engagement varies by region 🌍\n",
    "- Highlight one unexpected insight that gives BuzzLab an edge 🧠\n",
    "\n",
    "\n",
    "Now, Let’s get to work! 💡"
   ]
  },
  {
   "cell_type": "markdown",
   "id": "745e8cf6",
   "metadata": {},
   "source": [
    "### Step 1: Load the Dataset 📂\n",
    "\n",
    "First, we need to load the dataset to explore its structure and identify key variables for our analysis."
   ]
  },
  {
   "cell_type": "code",
   "execution_count": 1,
   "id": "6f1bfb6a",
   "metadata": {},
   "outputs": [],
   "source": []
  },
  {
   "cell_type": "markdown",
   "id": "14eee058",
   "metadata": {},
   "source": [
    "So our dataset contains information about social media posts across platforms, detailing Post ID, Platform, Hashtag, Content Type, Region, Views, Likes, Shares, Comments, and Engagement Level."
   ]
  },
  {
   "cell_type": "markdown",
   "id": "21f18312",
   "metadata": {},
   "source": [
    "### Step 2: Explore the Dataset 🔍\n",
    "\n",
    "Let's examine the dataset's dimensions, data types, and basic statistics to identify any data quality issues and understand the overall data distribution."
   ]
  },
  {
   "cell_type": "code",
   "execution_count": 2,
   "id": "4a28e8de",
   "metadata": {},
   "outputs": [],
   "source": []
  },
  {
   "cell_type": "markdown",
   "id": "829e26ac",
   "metadata": {},
   "source": [
    "The dataset is a DataFrame with 5000 entries and 10 columns, all containing non-null values. It includes identifiers, categorical data, and numerical data, providing a comprehensive view for analyzing social media engagement metrics."
   ]
  },
  {
   "cell_type": "code",
   "execution_count": 3,
   "id": "76c99c5b",
   "metadata": {},
   "outputs": [],
   "source": []
  },
  {
   "cell_type": "markdown",
   "id": "56721020",
   "metadata": {},
   "source": [
    "The dataset contains 5,000 entries with statistics for Views, Likes, Shares, and Comments. The average number of Views is approximately 2.49 million, with Likes, Shares, and Comments averaging around 251,475, 50,520, and 24,888 respectively. The data exhibits a wide range of values, as indicated by the standard deviations and the spread between the minimum and maximum values."
   ]
  },
  {
   "cell_type": "markdown",
   "id": "d2d0e52a",
   "metadata": {},
   "source": [
    "### Step 3: Which Platform Rewards Creativity the Most? 🎨\n",
    "\n",
    "We'll analyze the distribution of total engagement across platforms using a box plot to identify outliers and high-performing platforms."
   ]
  },
  {
   "cell_type": "code",
   "execution_count": 4,
   "id": "7e8b1f32",
   "metadata": {},
   "outputs": [],
   "source": []
  },
  {
   "cell_type": "markdown",
   "id": "fd241ff7",
   "metadata": {},
   "source": [
    "The boxplot shows that the distribution of views is similar across TikTok, Instagram, Twitter, and YouTube, with medians around 2.5 million views. All platforms exhibit a similar range and spread of views, indicating no significant outliers or differences in viewership among them."
   ]
  },
  {
   "cell_type": "markdown",
   "id": "277164cf",
   "metadata": {},
   "source": [
    "### Step 4: What is the Secret Sauce of Virality? 🔥\n",
    "\n",
    "We'll create a stacked bar chart comparing engagement levels (High, Medium, Low) across different hashtags and platforms to identify patterns of virality."
   ]
  },
  {
   "cell_type": "code",
   "execution_count": 5,
   "id": "101ee493",
   "metadata": {},
   "outputs": [],
   "source": []
  },
  {
   "cell_type": "markdown",
   "id": "bc9a8a0d",
   "metadata": {},
   "source": [
    "The chart shows the distribution of engagement levels across hashtags and platforms. TikTok and Twitter hashtags generally exhibit higher medium engagement, whereas YouTube hashtags show more variation in high engagement levels. Instagram hashtags have a prominent share of high engagement posts, especially in hashtags like #challenge and #fashion."
   ]
  },
  {
   "cell_type": "markdown",
   "id": "a4a2de6d",
   "metadata": {},
   "source": [
    "### Step 5: Are Longer Videos Better, or Do People Prefer Quick Content? ⏱️\n",
    "\n",
    "We'll create a grouped bar chart to compare engagement metrics (likes, shares, comments) across different content types."
   ]
  },
  {
   "cell_type": "code",
   "execution_count": 6,
   "id": "659694e8",
   "metadata": {},
   "outputs": [],
   "source": []
  },
  {
   "cell_type": "markdown",
   "id": "ae3b9f83",
   "metadata": {},
   "source": [
    "The bar chart shows that all content types—Live Stream, Post, Reel, Shorts, Tweet, and Video—receive a high average number of likes, significantly outpacing shares and comments. Each content type exhibits a similar pattern of engagement, with likes being the most prevalent metric."
   ]
  },
  {
   "cell_type": "markdown",
   "id": "4416e54f",
   "metadata": {},
   "source": [
    "### Step 6: Is Engagement Regional? 🌍\n",
    "\n",
    "We'll explore whether a hashtag trends differently in different countries using a heatmap to visualize the correlation between engagement levels and region-specific hashtags."
   ]
  },
  {
   "cell_type": "code",
   "execution_count": null,
   "id": "2cdf400a",
   "metadata": {},
   "outputs": [],
   "source": []
  },
  {
   "cell_type": "markdown",
   "id": "d08b95df",
   "metadata": {},
   "source": [
    "The heatmap shows that #Tech consistently receives high average views across regions, especially in India, Germany, and USA. We can see that #Comedy underperforms in Japan, and #Fitness shows strong engagement in Brazil.\n",
    "Notably, #Challenge and #Viral display varied performance by region, suggesting they may be trend-sensitive or culturally specific."
   ]
  }
 ],
 "metadata": {
  "kernelspec": {
   "display_name": "Python 3 (ipykernel)",
   "language": "python",
   "name": "python3"
  },
  "language_info": {
   "codemirror_mode": {
    "name": "ipython",
    "version": 3
   },
   "file_extension": ".py",
   "mimetype": "text/x-python",
   "name": "python",
   "nbconvert_exporter": "python",
   "pygments_lexer": "ipython3",
   "version": "3.11.9"
  }
 },
 "nbformat": 4,
 "nbformat_minor": 5
}
