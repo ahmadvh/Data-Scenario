{
 "cells": [
  {
   "cell_type": "markdown",
   "id": "4d5b25c0",
   "metadata": {},
   "source": [
    "### Data Scenario: Resume Parser with LangChain 📄\n",
    "\n",
    "In this project, we will build an AI-powered resume parser using LangChain and Python. The goal is to:\n",
    "\n",
    "- Parse text from a resume PDF\n",
    "- Extract relevant details such as name, skills, education, and work experience\n",
    "- Structure the data into a clean JSON format or a pandas DataFrame for further analysis\n",
    "\n",
    "Let's get started! 🚀"
   ]
  },
  {
   "cell_type": "code",
   "execution_count": null,
   "id": "f1f40f10",
   "metadata": {},
   "outputs": [],
   "source": [
    "# Install these packages if you haven't already:\n",
    "# !pip install langchain-openai langchain-core PyPDF2 pandas pydantic langchain-ollama"
   ]
  },
  {
   "cell_type": "code",
   "execution_count": null,
   "id": "e9f224f5",
   "metadata": {},
   "outputs": [],
   "source": [
    "import os\n",
    "import json\n",
    "import pandas as pd\n",
    "from dotenv import load_dotenv\n",
    "from PyPDF2 import PdfReader\n",
    "from langchain_openai import ChatOpenAI\n",
    "from langchain.prompts import PromptTemplate\n",
    "from langchain.chains import LLMChain\n",
    "# Load environment variables from .env file\n",
    "load_dotenv()\n",
    "os.environ[\"OPENAI_API_KEY\"] = os.getenv(\"OPENAI_API_KEY\")"
   ]
  },
  {
   "cell_type": "markdown",
   "id": "1b6aa416",
   "metadata": {},
   "source": [
    "### Step 1: Load and Extract Text from Resume PDF 📄"
   ]
  },
  {
   "cell_type": "code",
   "execution_count": null,
   "id": "f4804b0f",
   "metadata": {},
   "outputs": [],
   "source": [
    "def extract_text_from_pdf(pdf_path):\n",
    "\treader = PdfReader(pdf_path)\n",
    "\ttext = \"\"\n",
    "\tfor page in reader.pages:\n",
    "\t\ttext += page.extract_text()\n",
    "\treturn text\n",
    "resume_text = extract_text_from_pdf(\"resume.pdf\")\n",
    "print(resume_text[:1000])"
   ]
  },
  {
   "cell_type": "markdown",
   "id": "83e276f7",
   "metadata": {},
   "source": [
    "### Step 2: Generate Structured Output Using LangChain + OpenAI ✨"
   ]
  },
  {
   "cell_type": "code",
   "execution_count": null,
   "id": "b223b1cc",
   "metadata": {},
   "outputs": [],
   "source": [
    "template = PromptTemplate(\n",
    "\tinput_variables=[\"resume_text\"],\n",
    "\ttemplate=\"\"\"\n",
    "\t\tExtract the following information from the resume text:\n",
    "\t\t- Full Name\n",
    "\t\t- Email\n",
    "\t\t- Phone Number\n",
    "\t\t- Skills\n",
    "\t\t- Education (degree, institution, year)\n",
    "\t\t- Work Experience (role, company, years)\n",
    "\t\tReturn the result as JSON.\n",
    "\t\tResume Text:\n",
    "\t\t{resume_text}\n",
    "\t\t\"\"\")\n",
    "llm = ChatOpenAI(temperature=0, model_name=\"gpt-4.1-mini\")\n",
    "chain = LLMChain(llm=llm, prompt=template)\n",
    "structured_response = chain.run(resume_text=resume_text)\n",
    "# removing extra characters from the response\n",
    "structured_response = structured_response.replace(\"```\",\"\").replace(\"json\",\"\")\n",
    "print(structured_response)"
   ]
  },
  {
   "cell_type": "markdown",
   "id": "60a9ba1f",
   "metadata": {},
   "source": [
    "### Step 3: Convert the Output to JSON or DataFrame 🧾"
   ]
  },
  {
   "cell_type": "code",
   "execution_count": null,
   "id": "020b0319",
   "metadata": {},
   "outputs": [],
   "source": [
    "try:\n",
    "\tstructured_data = json.loads(structured_response)\n",
    "\tdf = pd.DataFrame([structured_data])\n",
    "\tdisplay(df)\n",
    "except Exception as e:\n",
    "\tprint(\"Error parsing JSON:\", e)"
   ]
  },
  {
   "cell_type": "markdown",
   "id": "46cd53e3",
   "metadata": {},
   "source": [
    "### That's it! ✅\n",
    "\n",
    "You've built a basic AI-powered resume parser using Python, LangChain, and OpenAI. You can now expand this by:\n",
    "- Processing multiple resumes in a folder\n",
    "- Adding job matching logic\n",
    "- Creating a Streamlit interface\n",
    "\n",
    "Keep experimenting and build something amazing! 💼"
   ]
  }
 ],
 "metadata": {},
 "nbformat": 4,
 "nbformat_minor": 5
}
