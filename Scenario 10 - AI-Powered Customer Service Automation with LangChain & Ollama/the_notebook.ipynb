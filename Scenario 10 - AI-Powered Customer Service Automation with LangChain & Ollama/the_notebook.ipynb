{
 "cells": [
  {
   "cell_type": "markdown",
   "id": "b0255588",
   "metadata": {},
   "source": [
    "## 🛍️ AI Assistant for E-Commerce Customer Support\n",
    "\n",
    "You've just joined **Trendora**, a fast-growing e-commerce startup known for its trendy gadgets and same-day delivery promise. The support team is overwhelmed with customer messages—ranging from product inquiries to returns and even pirate-style rants from angry customers.\n",
    "\n",
    "Your manager wants to **automate parts of the customer service pipeline** using local language models to save on API costs and increase data privacy.\n",
    "\n",
    "You’ll be working with **LangChain + Ollama**, using **Meta's LLaMA 3.2 model** running locally.\n",
    "\n",
    "Your mission is to:\n",
    "\n",
    "- Generate consistent and polite responses to customer emails using custom prompt templates.\n",
    "- Translate angry or informal emails into professional English.\n",
    "- Extract structured info (like refund intent, product issue, delivery time) from unstructured reviews.\n",
    "- Make sure everything runs locally for cost and compliance reasons.\n",
    "\n",
    "Let’s dive into it and start building a smart, private-first language assistant for Trendora’s e-commerce operations."
   ]
  },
  {
   "cell_type": "markdown",
   "id": "4111ec08",
   "metadata": {},
   "source": [
    "Let's install the needed modules"
   ]
  },
  {
   "cell_type": "code",
   "execution_count": null,
   "id": "94525751",
   "metadata": {},
   "outputs": [],
   "source": []
  },
  {
   "cell_type": "markdown",
   "id": "17cd9d17",
   "metadata": {},
   "source": [
    "Let's import the needed modules"
   ]
  },
  {
   "cell_type": "code",
   "execution_count": null,
   "id": "831127b0",
   "metadata": {},
   "outputs": [],
   "source": []
  },
  {
   "cell_type": "markdown",
   "id": "78a97884",
   "metadata": {},
   "source": [
    "Let’s start by sending a basic prompt to our locally running model to see if it works correctly."
   ]
  },
  {
   "cell_type": "code",
   "execution_count": null,
   "id": "e7259912",
   "metadata": {},
   "outputs": [],
   "source": []
  },
  {
   "cell_type": "markdown",
   "id": "df12ea94",
   "metadata": {},
   "source": [
    "Your boss just asked you to handle a customer complaint. A customer sent a very upset message about a defective gadget. Your task is to translate their message into a calm and polite tone."
   ]
  },
  {
   "cell_type": "code",
   "execution_count": null,
   "id": "08347fa1",
   "metadata": {},
   "outputs": [],
   "source": []
  },
  {
   "cell_type": "markdown",
   "id": "e37b6394",
   "metadata": {},
   "source": [
    "We can see that the model successfully rewrote the email in a more professional and respectful tone while keeping the original message intact."
   ]
  },
  {
   "cell_type": "markdown",
   "id": "e0bc0e3f",
   "metadata": {},
   "source": [
    "Now, what if your boss asks you to process multiple angry emails every day?\n",
    "\n",
    "Instead of writing a new prompt each time, you can use LangChain’s `PromptTemplate` to build a reusable template. let me show you how it works."
   ]
  },
  {
   "cell_type": "code",
   "execution_count": null,
   "id": "31b6277d",
   "metadata": {},
   "outputs": [],
   "source": []
  },
  {
   "cell_type": "markdown",
   "id": "f8207861",
   "metadata": {},
   "source": [
    "This way, we can use the `format` function to fill in the prompt template whenever needed.\n",
    "\n",
    "This time, imagine you’ve received an email from a customer who’s having trouble with a recently purchased smartwatch. Instead of rewriting the prompt from scratch, you simply plug the message and desired tone into the template. here is how:"
   ]
  },
  {
   "cell_type": "code",
   "execution_count": null,
   "id": "47935cf2",
   "metadata": {},
   "outputs": [],
   "source": []
  },
  {
   "cell_type": "markdown",
   "id": "38d5965b",
   "metadata": {},
   "source": [
    "Now You’re tasked with extracting structured information from product reviews — such as whether the item was a gift, how long delivery took, and how the customer perceived the product’s price or value.\n",
    "\n",
    "Let me show you how you can get your response with a json structure."
   ]
  },
  {
   "cell_type": "code",
   "execution_count": null,
   "id": "34a3531c",
   "metadata": {},
   "outputs": [],
   "source": []
  },
  {
   "cell_type": "markdown",
   "id": "3910d7d4",
   "metadata": {},
   "source": [
    "Your boss wants to know: what if the LLM returns a JSON response with the wrong structure for example missing keys or inconsistent formatting?\n",
    "\n",
    "To make the output reliable and consistent, we need a way to enforce the correct JSON structure every time."
   ]
  },
  {
   "cell_type": "markdown",
   "id": "d8bcb8a4",
   "metadata": {},
   "source": [
    "To do this we can use `Langchain Output Parsers`. let's import them."
   ]
  },
  {
   "cell_type": "code",
   "execution_count": null,
   "id": "ac979719",
   "metadata": {},
   "outputs": [],
   "source": []
  },
  {
   "cell_type": "markdown",
   "id": "47612406",
   "metadata": {},
   "source": [
    "To make sure the JSON output from the language model always follows a consistent structure, we can define a set of response schemas using `ResponseSchema`. Each schema specifies a key we expect in the output and describes what it should contain.\n",
    "\n",
    "This allows us to generate a clear set of formatting instructions that guide the model to return data in a predictable and structured way — making it much easier to parse the results programmatically.\n",
    "\n",
    "Let’s define the expected fields:  \n",
    "- `gift`: whether the item was purchased as a gift  \n",
    "- `delivery_days`: how many days it took to arrive  \n",
    "- `price_value`: comments related to price or value\n",
    "\n",
    "So now, let's do it..."
   ]
  },
  {
   "cell_type": "code",
   "execution_count": null,
   "id": "d35ff5c3",
   "metadata": {},
   "outputs": [],
   "source": []
  },
  {
   "cell_type": "markdown",
   "id": "9440bdb3",
   "metadata": {},
   "source": [
    "Now let's have a look at the `response` with json object again."
   ]
  },
  {
   "cell_type": "code",
   "execution_count": null,
   "id": "6b61ad29",
   "metadata": {},
   "outputs": [],
   "source": []
  },
  {
   "cell_type": "markdown",
   "id": "9537b1d6",
   "metadata": {},
   "source": [
    "Now we can use the output parser to parse the response into a `python dictionary`."
   ]
  },
  {
   "cell_type": "code",
   "execution_count": null,
   "id": "6e730367",
   "metadata": {},
   "outputs": [],
   "source": []
  },
  {
   "cell_type": "markdown",
   "id": "39240276",
   "metadata": {},
   "source": [
    "So as you can see result is a structured and easy-to-use Python dictionary (`dict`), which can now be passed into databases, used for analytics, or integrated into automated workflows."
   ]
  }
 ],
 "metadata": {},
 "nbformat": 4,
 "nbformat_minor": 5
}
