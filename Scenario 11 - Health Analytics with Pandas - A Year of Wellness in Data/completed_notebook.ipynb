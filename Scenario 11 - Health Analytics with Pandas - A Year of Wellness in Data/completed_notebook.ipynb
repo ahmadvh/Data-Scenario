{
 "cells": [
  {
   "cell_type": "markdown",
   "id": "04faf52d",
   "metadata": {},
   "source": [
    "### Data Scenario: Personal Wellness Tracker 📅\n",
    "\n",
    "Your friend has been tracking their daily wellness stats for the past year and needs your help to analyze this data. They are curious about three main questions:\n",
    "\n",
    "- Do they walk more on days they feel energetic?\n",
    "- Does better sleep reduce the number of tired days?\n",
    "- How consistent is their water intake?\n",
    "\n",
    "Let's dive into the data and provide them with some insights! 📊"
   ]
  },
  {
   "cell_type": "code",
   "execution_count": null,
   "id": "987163ef",
   "metadata": {},
   "outputs": [],
   "source": [
    "import pandas as pd\n",
    "import matplotlib.pyplot as plt\n",
    "import seaborn as sns\n",
    "\n",
    "plt.rcParams['figure.figsize'] = (8.5, 4)\n",
    "sns.set(style='whitegrid')"
   ]
  },
  {
   "cell_type": "markdown",
   "id": "78d777d3",
   "metadata": {},
   "source": [
    "Let's start by importing the dataset and checking its structure to understand the available data."
   ]
  },
  {
   "cell_type": "code",
   "execution_count": null,
   "id": "83cea40b",
   "metadata": {},
   "outputs": [],
   "source": [
    "data = pd.read_csv('dataset.csv')\n",
    "data.head()"
   ]
  },
  {
   "cell_type": "markdown",
   "id": "f9303834",
   "metadata": {},
   "source": [
    "The dataset includes daily metrics such as steps, distance, calories burned, active minutes, sleep hours, water intake, and mood. Let's examine the columns, their types, and check for any missing values."
   ]
  },
  {
   "cell_type": "code",
   "execution_count": null,
   "id": "26a7ff42",
   "metadata": {},
   "outputs": [],
   "source": [
    "data.info()"
   ]
  },
  {
   "cell_type": "markdown",
   "id": "3344c9c3",
   "metadata": {},
   "source": [
    "The dataset has 500 entries and 8 columns with no missing values. Columns include 'date' and 'mood' as object types, while others are numeric, capturing daily activity and wellness metrics. Let's ensure the `date` column is treated as a date and sort the data accordingly."
   ]
  },
  {
   "cell_type": "code",
   "execution_count": null,
   "id": "d56248c0",
   "metadata": {},
   "outputs": [],
   "source": [
    "data['date'] = pd.to_datetime(data['date'], dayfirst=True)\n",
    "data = data.sort_values('date')\n",
    "\n",
    "print(data['date'].dtype)"
   ]
  },
  {
   "cell_type": "markdown",
   "id": "882e9b89",
   "metadata": {},
   "source": [
    "Now, let's visualize how the step count has changed over time to identify any patterns or trends."
   ]
  },
  {
   "cell_type": "code",
   "execution_count": null,
   "id": "2cf92574",
   "metadata": {},
   "outputs": [],
   "source": [
    "plt.plot(data['date'], data['steps'], marker='o')\n",
    "plt.title('Steps Over Time')\n",
    "plt.xlabel('Date')\n",
    "plt.ylabel('Steps')\n",
    "plt.xticks(rotation=45)\n",
    "plt.tight_layout()\n",
    "plt.show()"
   ]
  },
  {
   "cell_type": "markdown",
   "id": "03aba3da",
   "metadata": {},
   "source": [
    "The chart shows daily step counts with significant variability, fluctuating between 0 and 20,000 steps, without clear long-term trends. To see things better, let's aggregate the data by week."
   ]
  },
  {
   "cell_type": "code",
   "execution_count": null,
   "id": "bc7b090c",
   "metadata": {},
   "outputs": [],
   "source": [
    "data.set_index('date', inplace=True)  # Set 'date' as the index for resampling\n",
    "weekly_data = data.resample('W').sum()  # Aggregate by week\n",
    "weekly_data = weekly_data.reset_index()[['date', 'steps']] # Reset index to keep 'date' as a column\n",
    "data.reset_index(inplace=True) # Reset index to keep 'date' as a column\n",
    "weekly_data.head()"
   ]
  },
  {
   "cell_type": "markdown",
   "id": "1279ea62",
   "metadata": {},
   "source": [
    "Now whave the weekly step count. Lets visualize this."
   ]
  },
  {
   "cell_type": "code",
   "execution_count": null,
   "id": "132f3526",
   "metadata": {},
   "outputs": [],
   "source": [
    "plt.plot(weekly_data.index, weekly_data['steps'], marker='o')\n",
    "plt.title('Weekly Steps Over Time')\n",
    "plt.xlabel('Week')\n",
    "plt.ylabel('Steps')\n",
    "plt.xticks(rotation=45)\n",
    "plt.tight_layout()\n",
    "plt.show()"
   ]
  },
  {
   "cell_type": "markdown",
   "id": "3332f0d7",
   "metadata": {},
   "source": [
    "Now by looking at this chart we can see inconsistent step counts: some weeks jump above 150,000 steps, while others drop below 50,000. That’s a big swing.\n",
    "\n",
    "Possible Interpretations:\n",
    "\n",
    "- Your friend may have bursts of motivation, followed by quiet periods — common in fitness journeys.\n",
    "- The pattern doesn’t suggest a habitual routine — which can make it harder to see consistent benefits over time.\n",
    "- The steady cluster around weeks 46–50 might show a more stable routine forming toward the end of the year."
   ]
  },
  {
   "cell_type": "markdown",
   "id": "e5a9c54c",
   "metadata": {},
   "source": [
    "### Steps by Mood 😃😔\n",
    "\n",
    "Let's see if certain moods are associated with higher step counts."
   ]
  },
  {
   "cell_type": "code",
   "execution_count": null,
   "id": "0ce42660",
   "metadata": {},
   "outputs": [],
   "source": [
    "sns.boxplot(x='mood', y='steps', data=data, hue='mood')\n",
    "plt.title('Steps by Mood')\n",
    "plt.ylabel('Steps')\n",
    "plt.xlabel('Mood')\n",
    "plt.show()"
   ]
  },
  {
   "cell_type": "markdown",
   "id": "7a2ce910",
   "metadata": {},
   "source": [
    "By looking at this chart we can see that \n",
    "\n",
    "- 🟢 **Energetic days** had the highest median step count — more movement when feeling good.\n",
    "- 😔 **Sad** and 🙂 **Happy** moods showed the lowest median steps.\n",
    "- 😩 **Stressed** and 😴 **Tired** days still had decent activity — possibly stress walking.\n",
    "- 📊 Step counts varied a lot across all moods, but energy clearly boosts movement.\n",
    "\n",
    "This supports the idea that when your friend feels energetic, they `move` more. and when they are `sad` they move less.\n",
    "\n",
    "Now let's have a look at our dataset again."
   ]
  },
  {
   "cell_type": "code",
   "execution_count": null,
   "id": "9c4c5895",
   "metadata": {},
   "outputs": [],
   "source": [
    "data.head()"
   ]
  },
  {
   "cell_type": "markdown",
   "id": "37051bcf",
   "metadata": {},
   "source": [
    "Let's use a violin chart to see how sleep hours vary across moods."
   ]
  },
  {
   "cell_type": "code",
   "execution_count": null,
   "id": "02c18533",
   "metadata": {},
   "outputs": [],
   "source": [
    "sns.violinplot(x='mood', y='sleep_hours', data=data, inner='quartile', hue='mood', split=True)\n",
    "plt.title('Sleep Hours by Mood')\n",
    "plt.ylabel('Sleep Hours')\n",
    "plt.xlabel('Mood')\n",
    "plt.show()"
   ]
  },
  {
   "cell_type": "markdown",
   "id": "c785b050",
   "metadata": {},
   "source": [
    "So we can see that:\n",
    "\n",
    "- 😴 **Tired** days had a wide spread — sometimes low sleep, sometimes high.\n",
    "- ⚡ **Energetic** moods usually follow consistent sleep around 7 hours.\n",
    "- 😔 **Sad** and 😫 **Stressed** moods don’t show extreme sleep patterns but cluster around 6–7 hrs.\n",
    "- 😌 **Happy** moods had the most variation — sleep ranged from ~4 to 12 hrs."
   ]
  },
  {
   "cell_type": "markdown",
   "id": "c9a81b7f",
   "metadata": {},
   "source": [
    "### Correlation Between Health Metrics 🔍\n",
    "\n",
    "Let's check the correlation matrix between numeric features to understand their relationships."
   ]
  },
  {
   "cell_type": "code",
   "execution_count": null,
   "id": "eab3e64e",
   "metadata": {},
   "outputs": [],
   "source": [
    "corr = data.drop(columns=['date', 'mood']).corr()\n",
    "sns.heatmap(corr, annot=True, cmap='coolwarm')\n",
    "plt.title('Correlation Between Health Metrics')\n",
    "plt.show()"
   ]
  },
  {
   "cell_type": "markdown",
   "id": "7cd4843f",
   "metadata": {},
   "source": [
    "Looking at our correlation matrix we can see that:\n",
    "\n",
    "🔗 Steps, distance, calories burned, and active minutes are perfectly correlated (correlation = 1.0).\n",
    "→ These metrics move together — more steps naturally mean more distance, more calories burned, and more active minutes.\n",
    "\n",
    "😴 Sleep hours have a very weak negative correlation with the other metrics (~ -0.03).\n",
    "→ Sleep duration doesn’t show a meaningful relationship with physical activity.\n",
    "\n",
    "💧 Water intake shows a slight positive correlation (~ 0.05) with steps, distance, and other activity metrics.\n",
    "→ There’s a tiny tendency to drink more water on more active days, but it’s not strong.\n",
    "\n",
    "So in summary:\n",
    "\n",
    "- 🔁 Steps, distance, calories, and activity minutes are tightly linked.\n",
    "- 😴 Sleep hours don’t strongly connect to movement or water habits.\n",
    "- 💧 Water intake slightly increases with more activity — but not by much."
   ]
  }
 ],
 "metadata": {},
 "nbformat": 4,
 "nbformat_minor": 5
}
