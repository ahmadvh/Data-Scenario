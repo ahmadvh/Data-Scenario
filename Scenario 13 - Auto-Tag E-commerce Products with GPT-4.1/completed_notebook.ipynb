{
 "cells": [
  {
   "cell_type": "markdown",
   "id": "1f6602f1",
   "metadata": {},
   "source": [
    "## 🏷️ Data Scenario: Auto-Tag and Categorize E-commerce Products\n",
    "\n",
    "At **ShopSphere**, product categorization is vital.\n",
    "\n",
    "🛒 Each week, thousands of new items are uploaded. Manual categorization is slow and leads to mistakes.\n",
    "\n",
    "You are tasked to create an **AI solution** that automatically tags and categorizes products using semantic similarity."
   ]
  },
  {
   "cell_type": "code",
   "execution_count": null,
   "id": "6cb6389e",
   "metadata": {},
   "outputs": [],
   "source": [
    "import pandas as pd\n",
    "from langchain_openai import OpenAIEmbeddings\n",
    "from sklearn.metrics.pairwise import cosine_similarity\n",
    "import numpy as np\n",
    "possible_categories = ['Electronics', 'Clothing', 'Home Decor', 'Sports', 'Toys']"
   ]
  },
  {
   "cell_type": "markdown",
   "id": "1e611308",
   "metadata": {},
   "source": [
    "Let's load our dataset and have a look at it"
   ]
  },
  {
   "cell_type": "code",
   "execution_count": null,
   "id": "b6d6fbbf",
   "metadata": {},
   "outputs": [],
   "source": [
    "products = pd.read_csv('products.csv')\n",
    "products.head()"
   ]
  },
  {
   "cell_type": "markdown",
   "id": "751da487",
   "metadata": {},
   "source": [
    "⚙️ First, we will generate embeddings for product descriptions and category names."
   ]
  },
  {
   "cell_type": "code",
   "execution_count": null,
   "id": "7c19ab02",
   "metadata": {},
   "outputs": [],
   "source": [
    "embeddings = OpenAIEmbeddings()\n",
    "category_embeddings = embeddings.embed_documents(possible_categories)"
   ]
  },
  {
   "cell_type": "markdown",
   "id": "3ad016bc",
   "metadata": {},
   "source": [
    "🔍 Then, we'll assign each product to its closest matching category."
   ]
  },
  {
   "cell_type": "code",
   "execution_count": null,
   "id": "987cb932",
   "metadata": {},
   "outputs": [],
   "source": [
    "def assign_category(description):\n",
    "\tprod_emb = embeddings.embed_query(description)\n",
    "\tsims = cosine_similarity([prod_emb], category_embeddings)\n",
    "\treturn possible_categories[np.argmax(sims)]\n",
    "products['predicted_category'] = products['description'].apply(assign_category)\n",
    "products.head()"
   ]
  },
  {
   "cell_type": "markdown",
   "id": "3ea88e68",
   "metadata": {},
   "source": [
    "💾 Save the categorized product list for catalog review."
   ]
  },
  {
   "cell_type": "code",
   "execution_count": null,
   "id": "fa807e9c",
   "metadata": {},
   "outputs": [],
   "source": [
    "products.to_csv('products_with_categories.csv', index=False)"
   ]
  },
  {
   "cell_type": "markdown",
   "id": "6e9f1642",
   "metadata": {},
   "source": [
    "## 🎉 Wrapping Up\n",
    "\n",
    "Hope you enjoyed this automation project! 🎯\n",
    "\n",
    "👉 What other product metadata would you predict automatically?\n",
    "👉 Could embeddings help with customer search too?\n",
    "\n",
    "💬 Share your ideas or experiments in the comments below!"
   ]
  }
 ],
 "metadata": {},
 "nbformat": 4,
 "nbformat_minor": 5
}
