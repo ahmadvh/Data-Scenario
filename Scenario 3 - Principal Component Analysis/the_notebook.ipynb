{
 "cells": [
  {
   "cell_type": "markdown",
   "id": "04cc025c",
   "metadata": {},
   "source": [
    "# Principal Component Analysis (PCA) in a Business Context\n",
    "\n",
    "Imagine you're a data scientist at a retail company. Your boss has tasked you with analyzing customer purchasing behavior to improve marketing strategies. The dataset is high-dimensional, containing various features like age, income, purchase frequency, and more. To make sense of this data, you'll use Principal Component Analysis (PCA) to reduce dimensionality while preserving essential information."
   ]
  },
  {
   "cell_type": "markdown",
   "id": "1a2d8993",
   "metadata": {},
   "source": [
    "## Loading the Dataset\n",
    "\n",
    "Let's start by loading the dataset. This dataset contains information about 50 customers, including `6 columns`. "
   ]
  },
  {
   "cell_type": "code",
   "execution_count": null,
   "id": "922f8e3c",
   "metadata": {},
   "outputs": [],
   "source": []
  },
  {
   "cell_type": "markdown",
   "id": "7846f526-bfdf-49c5-98b8-ddfe1b45ebc3",
   "metadata": {},
   "source": [
    "We can see that in this dataset we have the customers age, income, purchase frequency, and other relevant features."
   ]
  },
  {
   "cell_type": "markdown",
   "id": "1a7c2e46",
   "metadata": {},
   "source": [
    "## Exploring the Dataset\n",
    "\n",
    "To understand the dataset better, let's start by examining some summary statistics."
   ]
  },
  {
   "cell_type": "code",
   "execution_count": null,
   "id": "9860c04f",
   "metadata": {},
   "outputs": [],
   "source": []
  },
  {
   "cell_type": "markdown",
   "id": "6ff56486",
   "metadata": {},
   "source": [
    "Looking at this statistics about our data we can see that: \n",
    "\n",
    "- **Age:** Customers are mostly young, with an average age of **33.5 years** (range: **22–47**).  \n",
    "- **Income:** The average income is **67,240 Dollars**, ranging from **45,000 to 97,000 Dollars**, with noticeable variability.  \n",
    "- **Purchase Frequency:** Customers buy **3.5 times on average**, with some making up to **6 purchases**.  \n",
    "- **Spending Patterns:**  \n",
    "  - **Online:** Avg. spend is **264 Dollars**, with top spenders exceeding **470 Dollars**.  \n",
    "  - **In-Store:** Higher avg. spend (**425 Dollars**), with max at **670 Dollars**.  \n",
    "- **Loyalty Score:** Avg. score **76.6**, with most customers scoring **above 65**, indicating strong retention."
   ]
  },
  {
   "cell_type": "markdown",
   "id": "69189bb0",
   "metadata": {},
   "source": [
    "## Standardizing the Data\n",
    "\n",
    "PCA is sensitive to the scale of the data. Therefore, we need to standardize the dataset so that each feature contributes equally to the analysis. We'll use the `StandardScaler` from scikit-learn to achieve this."
   ]
  },
  {
   "cell_type": "code",
   "execution_count": null,
   "id": "3d52b8d3",
   "metadata": {},
   "outputs": [],
   "source": []
  },
  {
   "cell_type": "markdown",
   "id": "6ad89b27-2058-419b-8e58-9b7212792cbd",
   "metadata": {},
   "source": [
    "Now we can see that each customer is described by a vector of length 6."
   ]
  },
  {
   "cell_type": "markdown",
   "id": "082b9318",
   "metadata": {},
   "source": [
    "## Performing PCA\n",
    "\n",
    "Now that our data is standardized, we can perform PCA to reduce the dimensionality from 6 to 2.\n",
    "\n",
    "We'll compute the covariance matrix, perform eigen decomposition, and project the data into a lower-dimensional space. This will help us identify the principal components that capture the most variance in the data."
   ]
  },
  {
   "cell_type": "code",
   "execution_count": null,
   "id": "9fe7371e",
   "metadata": {},
   "outputs": [],
   "source": []
  },
  {
   "cell_type": "markdown",
   "id": "1719722a-e5b0-4e6a-b568-802780dc6dd3",
   "metadata": {},
   "source": [
    "now we can see that each customer is described by 2 numberical values (a vector with 2 elements.)"
   ]
  },
  {
   "cell_type": "markdown",
   "id": "67b334c5",
   "metadata": {},
   "source": [
    "## Visualizing the Principal Components\n",
    "\n",
    "To better understand the results of PCA, let's visualize the data in the new principal component space. This will help us see how the data clusters and identify any patterns that may inform our marketing strategies."
   ]
  },
  {
   "cell_type": "code",
   "execution_count": null,
   "id": "22e43bb8",
   "metadata": {},
   "outputs": [],
   "source": []
  },
  {
   "cell_type": "markdown",
   "id": "a94a2bd6",
   "metadata": {},
   "source": [
    "\n",
    "\n",
    "Now by looking at this chart we can see that. how the data is distributed in the principal component space. Clusters in this plot may indicate groups of customers with similar purchasing behaviors. These insights can guide targeted marketing campaigns, helping the company allocate resources more effectively."
   ]
  }
 ],
 "metadata": {
  "kernelspec": {
   "display_name": "Python 3",
   "language": "python",
   "name": "python3"
  },
  "language_info": {
   "codemirror_mode": {
    "name": "ipython",
    "version": 3
   },
   "file_extension": ".py",
   "mimetype": "text/x-python",
   "name": "python",
   "nbconvert_exporter": "python",
   "pygments_lexer": "ipython3",
   "version": "3.13.1"
  }
 },
 "nbformat": 4,
 "nbformat_minor": 5
}
