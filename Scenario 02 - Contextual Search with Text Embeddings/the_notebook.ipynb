{
  "cells": [
    {
      "cell_type": "markdown",
      "metadata": {
        "id": "q082WDnkLcGY"
      },
      "source": [
        "# Welcome to Notebook\n",
        "**Scenario:**\n",
        "\n",
        "MX-NEWS, a 40-year-old news company, has tasked you with identifying 10 headlines related to \n",
        "`climate change and global warming` from their March 2004 archive. A dataset containing the headlines is provided, and the solution must use a privacy-focused \n",
        "local Llama text embedding model to extract the most relevant headlines.\n"
      ]
    },
    {
      "cell_type": "markdown",
      "metadata": {},
      "source": [
        "Let's import the needed module"
      ]
    },
    {
      "cell_type": "code",
      "execution_count": 3,
      "metadata": {
        "colab": {
          "base_uri": "https://localhost:8080/",
          "height": 642
        },
        "id": "scn7mBZ6J_xW",
        "outputId": "74477d34-c182-4709-a004-da88f0a9ec45"
      },
      "outputs": [],
      "source": [
        "import pandas as pd\n",
        "from sklearn.metrics.pairwise import cosine_similarity\n",
        "from langchain_ollama import OllamaEmbeddings"
      ]
    },
    {
      "cell_type": "markdown",
      "metadata": {},
      "source": [
        "Define the endpoint and the model name"
      ]
    },
    {
      "cell_type": "code",
      "execution_count": 2,
      "metadata": {},
      "outputs": [],
      "source": [
        "OLLAMA_API_ENDPOINT = \"http://127.0.0.1:11434/api/embeddings\"\n",
        "MODEL_NAME = \"mxbai-embed-large:latest\""
      ]
    },
    {
      "cell_type": "markdown",
      "metadata": {
        "id": "nkVUW9l-RPFY"
      },
      "source": [
        "Let's load the list of news headlines"
      ]
    },
    {
      "cell_type": "code",
      "execution_count": null,
      "metadata": {
        "colab": {
          "base_uri": "https://localhost:8080/",
          "height": 206
        },
        "id": "tBs5gSZbS_GV",
        "outputId": "c0bc3f49-f798-40f1-dd15-d587aa7e5907"
      },
      "outputs": [],
      "source": []
    },
    {
      "cell_type": "markdown",
      "metadata": {},
      "source": [
        "Let's load the embedding model"
      ]
    },
    {
      "cell_type": "code",
      "execution_count": null,
      "metadata": {
        "id": "V-7ogGNnSgrR"
      },
      "outputs": [],
      "source": []
    },
    {
      "cell_type": "markdown",
      "metadata": {
        "id": "iwYU83wKW0M5"
      },
      "source": [
        "Extract the vector embeddings from the `headlines`"
      ]
    },
    {
      "cell_type": "code",
      "execution_count": null,
      "metadata": {
        "id": "0DHeunoSTRSG"
      },
      "outputs": [],
      "source": []
    },
    {
      "cell_type": "markdown",
      "metadata": {
        "id": "Hf4V00CrbdPz"
      },
      "source": [
        "Now let's add the emebedding vectors to the dataframe"
      ]
    },
    {
      "cell_type": "code",
      "execution_count": null,
      "metadata": {
        "id": "fx_GLUrDaSFX"
      },
      "outputs": [],
      "source": []
    },
    {
      "cell_type": "markdown",
      "metadata": {
        "id": "HBUZ8nC2YP38"
      },
      "source": [
        "Use the embedding model to generate a 1024-dimensional embedding vector related to the phrase: `\"global warming and climate change\"`. then store it into a variable called `search_vector`."
      ]
    },
    {
      "cell_type": "code",
      "execution_count": null,
      "metadata": {
        "id": "HoyviLZrZ-X3"
      },
      "outputs": [],
      "source": []
    },
    {
      "cell_type": "markdown",
      "metadata": {
        "id": "KJG25Og5b2R5"
      },
      "source": [
        "Use the `cosine similarity` measure to calculate the similarity between the `search_vector` and each of the embedding vectors of the headlines."
      ]
    },
    {
      "cell_type": "code",
      "execution_count": null,
      "metadata": {
        "id": "DUjFbQmLc8qs"
      },
      "outputs": [],
      "source": []
    },
    {
      "cell_type": "markdown",
      "metadata": {
        "id": "D-XEs2kLdefz"
      },
      "source": [
        "Sort the dataframe by the `similarity score` column and find 10 headlines that are related to the search phrase."
      ]
    },
    {
      "cell_type": "code",
      "execution_count": null,
      "metadata": {
        "id": "hzaJWpDQdsq_"
      },
      "outputs": [],
      "source": []
    }
  ],
  "metadata": {
    "colab": {
      "provenance": []
    },
    "kernelspec": {
      "display_name": "Python 3",
      "language": "python",
      "name": "python3"
    },
    "language_info": {
      "codemirror_mode": {
        "name": "ipython",
        "version": 3
      },
      "file_extension": ".py",
      "mimetype": "text/x-python",
      "name": "python",
      "nbconvert_exporter": "python",
      "pygments_lexer": "ipython3",
      "version": "3.13.0"
    }
  },
  "nbformat": 4,
  "nbformat_minor": 0
}
