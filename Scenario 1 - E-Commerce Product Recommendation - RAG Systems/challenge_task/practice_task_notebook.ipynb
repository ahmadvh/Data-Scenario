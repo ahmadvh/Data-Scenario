{
  "cells": [
    {
      "cell_type": "markdown",
      "metadata": {
        "id": "q082WDnkLcGY"
      },
      "source": [
        "# Welcome to the Challenge\n",
        "\n",
        "You have been hired by a 40-year-old news company called FF-NEWS. They have provided a dataset containing headlines, their vector embeddings, and similarity scores to the phrase `climate change and global warming.`\n",
        "\n",
        "As an AI Engineer, your task is to use the OpenAI GPT-4 model to generate a short article based on the top 3 most similar headlines to `climate change and global warming.`\n",
        "\n",
        "Hint: Use the similarity score to identify the top 3 closest matches.\n",
        "\n",
        "Good luck! 🍀\n",
        "\n",
        "— Ahmad"
      ]
    },
    {
      "cell_type": "markdown",
      "metadata": {
        "id": "eWZZxR7uVPw1"
      },
      "source": [
        "----\n",
        "Run the following block to set up the OpenAI API and import the necessary modules.\n",
        "\n",
        "**Do not forget to upload your apikey.env file into the Google Colab environment.**"
      ]
    },
    {
      "cell_type": "code",
      "execution_count": null,
      "metadata": {
        "colab": {
          "base_uri": "https://localhost:8080/"
        },
        "id": "scn7mBZ6J_xW",
        "outputId": "9ff8b27c-0d2d-40f0-f91e-304bca29a778"
      },
      "outputs": [],
      "source": [
        "# install the needed modules\n",
        "!pip install openai==1.16.2 python-dotenv\n",
        "\n",
        "import pandas as pd\n",
        "import os\n",
        "from openai import OpenAI\n",
        "from dotenv import load_dotenv\n",
        "import numpy as np\n",
        "\n",
        "# Loading API key and organization ID from a dotenv file\n",
        "load_dotenv(dotenv_path='apikey.env.txt')\n",
        "\n",
        "# Retrieving API key and organization ID from environment variables\n",
        "APIKEY = os.getenv(\"APIKEY\")\n",
        "\n",
        "# Creating an instance of the OpenAI client with the provided API key and organization ID\n",
        "client = OpenAI(\n",
        "  api_key=APIKEY\n",
        ")\n",
        "\n",
        "client"
      ]
    },
    {
      "cell_type": "markdown",
      "metadata": {
        "id": "nkVUW9l-RPFY"
      },
      "source": [
        "Load the `challenge_task_dataset.csv`"
      ]
    },
    {
      "cell_type": "code",
      "execution_count": null,
      "metadata": {
        "colab": {
          "base_uri": "https://localhost:8080/",
          "height": 424
        },
        "id": "tBs5gSZbS_GV",
        "outputId": "0fa8125e-b7aa-421c-9884-b92db28daf6b"
      },
      "outputs": [],
      "source": []
    },
    {
      "cell_type": "markdown",
      "metadata": {
        "id": "Y12LZ4WmRUwy"
      },
      "source": [
        "Sort the dataset based on `similarity_score` in descending order."
      ]
    },
    {
      "cell_type": "code",
      "execution_count": null,
      "metadata": {
        "colab": {
          "base_uri": "https://localhost:8080/",
          "height": 424
        },
        "id": "V-7ogGNnSgrR",
        "outputId": "f7330fe2-a54e-486a-c091-64feb73f5c8a"
      },
      "outputs": [],
      "source": []
    },
    {
      "cell_type": "markdown",
      "metadata": {
        "id": "iwYU83wKW0M5"
      },
      "source": [
        "Find the top 3 similiar headlines"
      ]
    },
    {
      "cell_type": "code",
      "execution_count": null,
      "metadata": {
        "colab": {
          "base_uri": "https://localhost:8080/"
        },
        "id": "_SxSJ0BxPvxk",
        "outputId": "e5320a0a-ba9c-41be-b3d3-52a187241a51"
      },
      "outputs": [],
      "source": []
    },
    {
      "cell_type": "markdown",
      "metadata": {
        "id": "Hf4V00CrbdPz"
      },
      "source": [
        "Craft a prompt to generate an article based on the top 3 similiar headlines."
      ]
    },
    {
      "cell_type": "code",
      "execution_count": null,
      "metadata": {
        "colab": {
          "base_uri": "https://localhost:8080/"
        },
        "id": "fx_GLUrDaSFX",
        "outputId": "d8af8f40-481f-4847-e621-7486f0576810"
      },
      "outputs": [],
      "source": []
    },
    {
      "cell_type": "markdown",
      "metadata": {
        "id": "D-XEs2kLdefz"
      },
      "source": [
        "Send the prompt to the OpenAI `gpt-4o` and retrieve the article."
      ]
    },
    {
      "cell_type": "code",
      "execution_count": null,
      "metadata": {
        "colab": {
          "base_uri": "https://localhost:8080/"
        },
        "id": "hzaJWpDQdsq_",
        "outputId": "ea7a9736-ad81-4b4d-d238-f797ecdd4e35"
      },
      "outputs": [],
      "source": []
    }
  ],
  "metadata": {
    "colab": {
      "provenance": []
    },
    "kernelspec": {
      "display_name": "Python 3",
      "name": "python3"
    },
    "language_info": {
      "codemirror_mode": {
        "name": "ipython",
        "version": 3
      },
      "file_extension": ".py",
      "mimetype": "text/x-python",
      "name": "python",
      "nbconvert_exporter": "python",
      "pygments_lexer": "ipython3",
      "version": "3.12.0"
    }
  },
  "nbformat": 4,
  "nbformat_minor": 0
}
